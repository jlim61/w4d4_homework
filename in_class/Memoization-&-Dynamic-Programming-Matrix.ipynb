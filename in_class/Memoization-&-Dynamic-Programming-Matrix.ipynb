{
 "cells": [
  {
   "cell_type": "markdown",
   "metadata": {},
   "source": [
    "# Memoization & Dynamic Programming \n",
    "\n",
    "### Topics to discuss today:\n",
    "\n",
    "<ul>\n",
    "    <li>Time and Space Complexity  of recursive fibonnaci</li>\n",
    "    <li>The fibonacci Tree</li>\n",
    "    <li>storing solutions to sub problems</li>\n",
    "    <li>solving popular problems</li>\n",
    "</ul>\n",
    "<br>"
   ]
  },
  {
   "cell_type": "markdown",
   "metadata": {},
   "source": [
    "Calculating the time space complexity of the Fibbonacci sequence\n"
   ]
  },
  {
   "cell_type": "markdown",
   "metadata": {},
   "source": [
    "### The Fibonacci sequence"
   ]
  },
  {
   "cell_type": "code",
   "execution_count": 15,
   "metadata": {},
   "outputs": [
    {
     "data": {
      "text/plain": [
       "10946"
      ]
     },
     "execution_count": 15,
     "metadata": {},
     "output_type": "execute_result"
    }
   ],
   "source": [
    "# Write out a function to find the nth number in the fibonnaci sequence\n",
    "#Dealing with Time space and recursion\n",
    "\n",
    "def fib(num):\n",
    "    if num <= 1:\n",
    "        return 1\n",
    "    return fib(num-1) + fib(num-2)\n",
    "\n",
    "fib(20)"
   ]
  },
  {
   "cell_type": "markdown",
   "metadata": {},
   "source": [
    "## Trees"
   ]
  },
  {
   "cell_type": "markdown",
   "metadata": {},
   "source": [
    "the fibonacci sequence can be visualized using a tree structure. Lets look at the elements of a tree before discussing the fibonnaci tree:\n",
    "\n",
    "<img src=\"https://www.tutorialspoint.com/data_structures_algorithms/images/binary_tree.jpg\" style=\"height:400px;\">"
   ]
  },
  {
   "cell_type": "markdown",
   "metadata": {},
   "source": [
    "Let's look at the fibonnaci tree:\n",
    "\n",
    "<img src=\"data:image/jpeg;base64,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\" style=\"height:200px;\">"
   ]
  },
  {
   "cell_type": "markdown",
   "metadata": {},
   "source": [
    "## Memoization\n",
    "\n",
    "#### What is it?\n",
    "\n",
    "In computing, memoization or memoisation is an optimization technique used primarily to speed up computer programs by storing the results of expensive function calls and returning the cached result when the same inputs occur again. Memoization has also been used in other contexts (and for purposes other than speed gains), such as in simple mutually recursive descent parsing.\n",
    "\n",
    "#### When should we use it?\n",
    "\n",
    "Some problems are largely made of <b>overlapping subproblems</b>. When we find our code is solving the same problem multiple times over it's a good idea to store them so we don't have to recompute those solutions. This is known as Dynamic Programming "
   ]
  },
  {
   "cell_type": "code",
   "execution_count": 81,
   "metadata": {},
   "outputs": [
    {
     "data": {
      "text/plain": [
       "6835702259575806647045396549170580107055408029365524565407553367798082454408054014954534318953113802726603726769523447478238192192714526677939943338306101405105414819705664090901813637296453767095528104868264704914433529355579148731044685634135487735897954629842516947101494253575869699893400976539545740214819819151952085089538422954565146720383752121972115725761141759114990448978941370030912401573418221496592822626"
      ]
     },
     "execution_count": 81,
     "metadata": {},
     "output_type": "execute_result"
    }
   ],
   "source": [
    "#The super power of Dictionaries\n",
    "fib_cache = {}\n",
    "\n",
    "def fib_memo(num):\n",
    "    if num <= 1:\n",
    "        return 1\n",
    "    if num not in fib_cache:\n",
    "        fib_cache[num] = fib_memo(num -1) + fib_memo(num - 2)\n",
    "    return fib_cache[num]\n",
    "\n",
    "fib_memo(2000)"
   ]
  },
  {
   "cell_type": "code",
   "execution_count": 55,
   "metadata": {},
   "outputs": [
    {
     "name": "stdout",
     "output_type": "stream",
     "text": [
      "120\n"
     ]
    },
    {
     "data": {
      "text/plain": [
       "120"
      ]
     },
     "execution_count": 55,
     "metadata": {},
     "output_type": "execute_result"
    }
   ],
   "source": [
    "# Factorial Using Memoization\n",
    "\n",
    "# factorial 5 = 120\n",
    "\n",
    "factorial_cache = {}\n",
    "\n",
    "def calc_factorial(num):\n",
    "    factorial_result = 1\n",
    "    for i in range(1, num +1):\n",
    "        factorial_result *= i\n",
    "    return factorial_result\n",
    "        \n",
    "def calc_factorial_memo(num):\n",
    "    if num == 1:\n",
    "        return 1\n",
    "    elif num < 1:\n",
    "        return 0\n",
    "    elif num not in factorial_cache:\n",
    "        factorial_cache[num] = num * calc_factorial_memo(num - 1)\n",
    "    return factorial_cache[num]\n",
    "\n",
    "\n",
    "print(calc_factorial(5))\n",
    "calc_factorial_memo(5)"
   ]
  },
  {
   "cell_type": "markdown",
   "metadata": {},
   "source": [
    "## Decorators"
   ]
  },
  {
   "cell_type": "markdown",
   "metadata": {},
   "source": [
    "<p>A Decorator in Python is a function that takes another function that as an argument, and returns a 3rd function. Decorators are extremely useful as they allow the extenson of an existing function, without any of the original source code.</p>"
   ]
  },
  {
   "cell_type": "code",
   "execution_count": 57,
   "metadata": {},
   "outputs": [
    {
     "data": {
      "text/plain": [
       "'HELLO MATRIX'"
      ]
     },
     "execution_count": 57,
     "metadata": {},
     "output_type": "execute_result"
    }
   ],
   "source": [
    "#Decorator Syntax\n",
    "# longhand version\n",
    "\n",
    "def shouting_decorator(f):\n",
    "    def inner():\n",
    "        output = f()\n",
    "        return output.upper()\n",
    "    return inner\n",
    "\n",
    "def greeting():\n",
    "    return 'Hello Matrix'\n",
    "\n",
    "shouting_decorator(greeting)()"
   ]
  },
  {
   "cell_type": "code",
   "execution_count": 62,
   "metadata": {},
   "outputs": [
    {
     "data": {
      "text/plain": [
       "'goodbye sean dylan'"
      ]
     },
     "execution_count": 62,
     "metadata": {},
     "output_type": "execute_result"
    }
   ],
   "source": [
    "# shorthand version\n",
    "\n",
    "def whisper_decorator(f):\n",
    "    def inner(*args):\n",
    "        output = f(*args)\n",
    "        return output.lower()\n",
    "    return inner\n",
    "\n",
    "@whisper_decorator\n",
    "def greet_instructor(name):\n",
    "    return f'Hello {name.capitalize()}'\n",
    "\n",
    "@whisper_decorator\n",
    "def say_goodbye(name,name2):\n",
    "    return f'Goodbye {name.capitalize()} {name2.capitalize()}'\n",
    "\n",
    "\n",
    "greet_instructor('sean')\n",
    "say_goodbye('sean','dylan')"
   ]
  },
  {
   "cell_type": "code",
   "execution_count": 69,
   "metadata": {},
   "outputs": [
    {
     "name": "stdout",
     "output_type": "stream",
     "text": [
      "Error  e = TypeError(\"unsupported operand type(s) for +: 'int' and 'str'\")\n",
      "Error  e = TypeError('can only concatenate str (not \"int\") to str')\n"
     ]
    }
   ],
   "source": [
    "# error handling is common use for decorators\n",
    "\n",
    "def handle_errors(func):\n",
    "    def inner(*args):\n",
    "        try:\n",
    "            return func(*args)\n",
    "        except Exception as e:\n",
    "            print(f'Error { e = }')\n",
    "        return\n",
    "    return inner\n",
    "\n",
    "@handle_errors\n",
    "def adder(num1, num2):\n",
    "    return num1 + num2\n",
    "\n",
    "adder(5,'10')\n",
    "\n",
    "@handle_errors\n",
    "def greet_by_name(name):\n",
    "    return 'Hello' + ' ' + name\n",
    "\n",
    "greet_by_name('Josh')\n",
    "greet_by_name(55)"
   ]
  },
  {
   "cell_type": "code",
   "execution_count": 89,
   "metadata": {},
   "outputs": [
    {
     "data": {
      "text/plain": [
       "70330367711422815821835254877183549770181269836358732742604905087154537118196933579742249494562611733487750449241765991088186363265450223647106012053374121273867339111198139373125598767690091902245245323403501"
      ]
     },
     "execution_count": 89,
     "metadata": {},
     "output_type": "execute_result"
    }
   ],
   "source": [
    "def cache_decorator(f):\n",
    "    cache = {}\n",
    "    def inner(num):\n",
    "        if num not in cache:\n",
    "            cache[num] = f(num)\n",
    "        return cache[num]\n",
    "    return inner\n",
    "\n",
    "@cache_decorator\n",
    "def fib2(num):\n",
    "    if num <= 1:\n",
    "        return 1\n",
    "    return fib2(num - 1) + fib2(num - 2)\n",
    "\n",
    "fib2(1000)\n",
    "\n",
    "# @cache_decorator\n",
    "# def factorial(num):\n",
    "#     if num == 1:\n",
    "#         return 1\n",
    "#     return num * factorial(num-1)\n",
    "\n",
    "# factorial(10)"
   ]
  },
  {
   "cell_type": "markdown",
   "metadata": {},
   "source": [
    "## TwoSum Problem"
   ]
  },
  {
   "cell_type": "markdown",
   "metadata": {},
   "source": [
    "Given an array of integers, return the two numbers such that they add up to a specific target.\n",
    "\n",
    "You may assume that each input would have exactly one solution, and you may not use the same element twice."
   ]
  },
  {
   "cell_type": "code",
   "execution_count": null,
   "metadata": {},
   "outputs": [],
   "source": [
    "# In Python, the space complexity of an algorithm can be quadratic if the algorithm uses a nested loop and \n",
    "# creates a new data structure for each iteration of the outer loop, and the size of the new data structure is \n",
    "# proportional to the number of iterations of the inner loop. For example, a nested loop that creates a new list \n",
    "# for each iteration of the outer loop, and appends to the list for each iteration of the inner loop, would have a \n",
    "# space complexity of O(n^2), where n is the number of iterations of the outer loop.\""
   ]
  },
  {
   "cell_type": "code",
   "execution_count": 78,
   "metadata": {},
   "outputs": [
    {
     "data": {
      "text/plain": [
       "(88, 12)"
      ]
     },
     "execution_count": 78,
     "metadata": {},
     "output_type": "execute_result"
    }
   ],
   "source": [
    "nums = [50,50,5,1,88,17,12,40,50]\n",
    "target = 100\n",
    "\n",
    "def two_sum(alist, target):\n",
    "    diffs = set()\n",
    "    for num in set(alist):\n",
    "        diff = target - num\n",
    "        if diff in diffs:\n",
    "            return num, diff\n",
    "        diffs.add(num)\n",
    "    return 'You lied. There is no valid input'\n",
    "        \n",
    "two_sum(nums, target)"
   ]
  },
  {
   "cell_type": "code",
   "execution_count": null,
   "metadata": {},
   "outputs": [],
   "source": []
  }
 ],
 "metadata": {
  "kernelspec": {
   "display_name": "Python 3 (ipykernel)",
   "language": "python",
   "name": "python3"
  },
  "language_info": {
   "codemirror_mode": {
    "name": "ipython",
    "version": 3
   },
   "file_extension": ".py",
   "mimetype": "text/x-python",
   "name": "python",
   "nbconvert_exporter": "python",
   "pygments_lexer": "ipython3",
   "version": "3.11.3"
  }
 },
 "nbformat": 4,
 "nbformat_minor": 2
}
